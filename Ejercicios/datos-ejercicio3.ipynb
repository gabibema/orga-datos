{
 "cells": [
  {
   "cell_type": "code",
   "execution_count": 1,
   "id": "e0b7d98d",
   "metadata": {
    "_cell_guid": "b1076dfc-b9ad-4769-8c92-a6c4dae69d19",
    "_uuid": "8f2839f25d086af736a60e9eeb907d3b93b6e0e5",
    "execution": {
     "iopub.execute_input": "2022-08-30T01:03:11.499186Z",
     "iopub.status.busy": "2022-08-30T01:03:11.498513Z",
     "iopub.status.idle": "2022-08-30T01:03:12.627359Z",
     "shell.execute_reply": "2022-08-30T01:03:12.626409Z"
    },
    "papermill": {
     "duration": 1.139416,
     "end_time": "2022-08-30T01:03:12.630092",
     "exception": false,
     "start_time": "2022-08-30T01:03:11.490676",
     "status": "completed"
    },
    "tags": []
   },
   "outputs": [],
   "source": [
    "import numpy as np # linear algebra\n",
    "import pandas as pd # data processing, CSV file I/O (e.g. pd.read_csv)\n",
    "import seaborn as sns\n",
    "ds_attacks = pd.read_csv('../input/attacks/attacks.csv')"
   ]
  },
  {
   "cell_type": "code",
   "execution_count": 2,
   "id": "7ac7c4d4",
   "metadata": {
    "execution": {
     "iopub.execute_input": "2022-08-30T01:03:12.641376Z",
     "iopub.status.busy": "2022-08-30T01:03:12.640674Z",
     "iopub.status.idle": "2022-08-30T01:03:12.666540Z",
     "shell.execute_reply": "2022-08-30T01:03:12.665198Z"
    },
    "papermill": {
     "duration": 0.035531,
     "end_time": "2022-08-30T01:03:12.670551",
     "exception": false,
     "start_time": "2022-08-30T01:03:12.635020",
     "status": "completed"
    },
    "tags": []
   },
   "outputs": [
    {
     "data": {
      "text/html": [
       "<div>\n",
       "<style scoped>\n",
       "    .dataframe tbody tr th:only-of-type {\n",
       "        vertical-align: middle;\n",
       "    }\n",
       "\n",
       "    .dataframe tbody tr th {\n",
       "        vertical-align: top;\n",
       "    }\n",
       "\n",
       "    .dataframe thead th {\n",
       "        text-align: right;\n",
       "    }\n",
       "</style>\n",
       "<table border=\"1\" class=\"dataframe\">\n",
       "  <thead>\n",
       "    <tr style=\"text-align: right;\">\n",
       "      <th></th>\n",
       "      <th>Case Number</th>\n",
       "      <th>Date</th>\n",
       "      <th>Year</th>\n",
       "      <th>Type</th>\n",
       "      <th>Country</th>\n",
       "      <th>Activity</th>\n",
       "      <th>Name</th>\n",
       "      <th>Sex</th>\n",
       "      <th>Age</th>\n",
       "      <th>Fatal (Y/N);</th>\n",
       "    </tr>\n",
       "  </thead>\n",
       "  <tbody>\n",
       "    <tr>\n",
       "      <th>0</th>\n",
       "      <td>2018.06.25</td>\n",
       "      <td>25-Jun-2018</td>\n",
       "      <td>2018.0</td>\n",
       "      <td>Boating</td>\n",
       "      <td>USA</td>\n",
       "      <td>Paddling</td>\n",
       "      <td>Julie Wolfe</td>\n",
       "      <td>F</td>\n",
       "      <td>57</td>\n",
       "      <td>N;</td>\n",
       "    </tr>\n",
       "    <tr>\n",
       "      <th>1</th>\n",
       "      <td>2018.06.18</td>\n",
       "      <td>18-Jun-2018</td>\n",
       "      <td>2018.0</td>\n",
       "      <td>Unprovoked</td>\n",
       "      <td>USA</td>\n",
       "      <td>Standing</td>\n",
       "      <td>Adyson McNeely</td>\n",
       "      <td>F</td>\n",
       "      <td>11</td>\n",
       "      <td>N;</td>\n",
       "    </tr>\n",
       "    <tr>\n",
       "      <th>2</th>\n",
       "      <td>2018.06.09</td>\n",
       "      <td>09-Jun-2018</td>\n",
       "      <td>2018.0</td>\n",
       "      <td>Invalid</td>\n",
       "      <td>USA</td>\n",
       "      <td>Surfing</td>\n",
       "      <td>John Denges</td>\n",
       "      <td>M</td>\n",
       "      <td>48</td>\n",
       "      <td>N;</td>\n",
       "    </tr>\n",
       "    <tr>\n",
       "      <th>3</th>\n",
       "      <td>2018.06.08</td>\n",
       "      <td>08-Jun-2018</td>\n",
       "      <td>2018.0</td>\n",
       "      <td>Unprovoked</td>\n",
       "      <td>AUSTRALIA</td>\n",
       "      <td>Surfing</td>\n",
       "      <td>male</td>\n",
       "      <td>M</td>\n",
       "      <td>NaN</td>\n",
       "      <td>N;</td>\n",
       "    </tr>\n",
       "    <tr>\n",
       "      <th>4</th>\n",
       "      <td>2018.06.04</td>\n",
       "      <td>04-Jun-2018</td>\n",
       "      <td>2018.0</td>\n",
       "      <td>Provoked</td>\n",
       "      <td>MEXICO</td>\n",
       "      <td>Free diving</td>\n",
       "      <td>Gustavo Ramos</td>\n",
       "      <td>M</td>\n",
       "      <td>NaN</td>\n",
       "      <td>N;</td>\n",
       "    </tr>\n",
       "    <tr>\n",
       "      <th>...</th>\n",
       "      <td>...</td>\n",
       "      <td>...</td>\n",
       "      <td>...</td>\n",
       "      <td>...</td>\n",
       "      <td>...</td>\n",
       "      <td>...</td>\n",
       "      <td>...</td>\n",
       "      <td>...</td>\n",
       "      <td>...</td>\n",
       "      <td>...</td>\n",
       "    </tr>\n",
       "    <tr>\n",
       "      <th>5758</th>\n",
       "      <td>2015.10.07</td>\n",
       "      <td>07-Oct-2015</td>\n",
       "      <td>2015.0</td>\n",
       "      <td>Unprovoked</td>\n",
       "      <td>AUSTRALIA</td>\n",
       "      <td>Surfing</td>\n",
       "      <td>Eli Zawadzki</td>\n",
       "      <td>M</td>\n",
       "      <td>18</td>\n",
       "      <td>N;</td>\n",
       "    </tr>\n",
       "    <tr>\n",
       "      <th>5759</th>\n",
       "      <td>2015.10.05.b</td>\n",
       "      <td>05-Oct-2015</td>\n",
       "      <td>2015.0</td>\n",
       "      <td>Unprovoked</td>\n",
       "      <td>USA</td>\n",
       "      <td>Body boarding</td>\n",
       "      <td>male</td>\n",
       "      <td>M</td>\n",
       "      <td>22</td>\n",
       "      <td>N;</td>\n",
       "    </tr>\n",
       "    <tr>\n",
       "      <th>5760</th>\n",
       "      <td>2015.10.05.a</td>\n",
       "      <td>05-Oct-2015</td>\n",
       "      <td>2015.0</td>\n",
       "      <td>Unprovoked</td>\n",
       "      <td>USA</td>\n",
       "      <td>Wading</td>\n",
       "      <td>Gregory Slaughter</td>\n",
       "      <td>M</td>\n",
       "      <td>13</td>\n",
       "      <td>N;</td>\n",
       "    </tr>\n",
       "    <tr>\n",
       "      <th>5761</th>\n",
       "      <td>2015.10.04</td>\n",
       "      <td>04-Oct-2015</td>\n",
       "      <td>2015.0</td>\n",
       "      <td>Unprovoked</td>\n",
       "      <td>USA</td>\n",
       "      <td>Surfing</td>\n",
       "      <td>Phillip Tarasovic</td>\n",
       "      <td>M</td>\n",
       "      <td>14</td>\n",
       "      <td>N;</td>\n",
       "    </tr>\n",
       "    <tr>\n",
       "      <th>5762</th>\n",
       "      <td>2015.09.29</td>\n",
       "      <td>29-Sep-2015</td>\n",
       "      <td>2015.0</td>\n",
       "      <td>Unprovoked</td>\n",
       "      <td>USA</td>\n",
       "      <td>Surfing</td>\n",
       "      <td>David Morrison Jr.</td>\n",
       "      <td>M</td>\n",
       "      <td>22</td>\n",
       "      <td>N;</td>\n",
       "    </tr>\n",
       "  </tbody>\n",
       "</table>\n",
       "<p>5763 rows × 10 columns</p>\n",
       "</div>"
      ],
      "text/plain": [
       "       Case Number         Date    Year        Type    Country       Activity  \\\n",
       "0       2018.06.25  25-Jun-2018  2018.0     Boating        USA       Paddling   \n",
       "1       2018.06.18  18-Jun-2018  2018.0  Unprovoked        USA       Standing   \n",
       "2       2018.06.09  09-Jun-2018  2018.0     Invalid        USA        Surfing   \n",
       "3       2018.06.08  08-Jun-2018  2018.0  Unprovoked  AUSTRALIA        Surfing   \n",
       "4       2018.06.04  04-Jun-2018  2018.0    Provoked     MEXICO    Free diving   \n",
       "...            ...          ...     ...         ...        ...            ...   \n",
       "5758    2015.10.07  07-Oct-2015  2015.0  Unprovoked  AUSTRALIA        Surfing   \n",
       "5759  2015.10.05.b  05-Oct-2015  2015.0  Unprovoked        USA  Body boarding   \n",
       "5760  2015.10.05.a  05-Oct-2015  2015.0  Unprovoked        USA         Wading   \n",
       "5761    2015.10.04  04-Oct-2015  2015.0  Unprovoked        USA        Surfing   \n",
       "5762    2015.09.29  29-Sep-2015  2015.0  Unprovoked        USA        Surfing   \n",
       "\n",
       "                    Name Sex  Age Fatal (Y/N);  \n",
       "0            Julie Wolfe   F   57           N;  \n",
       "1        Adyson McNeely    F   11           N;  \n",
       "2            John Denges   M   48           N;  \n",
       "3                   male   M  NaN           N;  \n",
       "4         Gustavo Ramos    M  NaN           N;  \n",
       "...                  ...  ..  ...          ...  \n",
       "5758        Eli Zawadzki   M   18           N;  \n",
       "5759                male   M   22           N;  \n",
       "5760   Gregory Slaughter   M   13           N;  \n",
       "5761   Phillip Tarasovic   M   14           N;  \n",
       "5762  David Morrison Jr.   M   22           N;  \n",
       "\n",
       "[5763 rows x 10 columns]"
      ]
     },
     "execution_count": 2,
     "metadata": {},
     "output_type": "execute_result"
    }
   ],
   "source": [
    "ds_attacks"
   ]
  },
  {
   "cell_type": "code",
   "execution_count": 3,
   "id": "7d537746",
   "metadata": {
    "execution": {
     "iopub.execute_input": "2022-08-30T01:03:12.682358Z",
     "iopub.status.busy": "2022-08-30T01:03:12.681772Z",
     "iopub.status.idle": "2022-08-30T01:03:12.984199Z",
     "shell.execute_reply": "2022-08-30T01:03:12.983106Z"
    },
    "papermill": {
     "duration": 0.310899,
     "end_time": "2022-08-30T01:03:12.986726",
     "exception": false,
     "start_time": "2022-08-30T01:03:12.675827",
     "status": "completed"
    },
    "tags": []
   },
   "outputs": [
    {
     "data": {
      "image/png": "[encoded data removed]",
      "text/plain": [
       "<Figure size 432x288 with 1 Axes>"
      ]
     },
     "metadata": {
      "needs_background": "light"
     },
     "output_type": "display_data"
    }
   ],
   "source": [
    "casos=ds_attacks.Type.value_counts()\n",
    "\n",
    "grf_a1=casos.plot.bar(alpha=1 , title=\"Gráfico de barras variable País \" , xlabel=\"País\" , ylabel=\"Frecuencia\") #El dataset tiene basura"
   ]
  },
  {
   "cell_type": "code",
   "execution_count": 4,
   "id": "a1d6166f",
   "metadata": {
    "execution": {
     "iopub.execute_input": "2022-08-30T01:03:12.999357Z",
     "iopub.status.busy": "2022-08-30T01:03:12.998565Z",
     "iopub.status.idle": "2022-08-30T01:03:13.250226Z",
     "shell.execute_reply": "2022-08-30T01:03:13.249175Z"
    },
    "papermill": {
     "duration": 0.260392,
     "end_time": "2022-08-30T01:03:13.252456",
     "exception": false,
     "start_time": "2022-08-30T01:03:12.992064",
     "status": "completed"
    },
    "tags": []
   },
   "outputs": [
    {
     "data": {
      "image/png": "[encoded data removed]",
      "text/plain": [
       "<Figure size 432x288 with 1 Axes>"
      ]
     },
     "metadata": {
      "needs_background": "light"
     },
     "output_type": "display_data"
    }
   ],
   "source": [
    "casos_actividades=ds_attacks['Fatal (Y/N);'].value_counts()\n",
    "\n",
    "grf_a2=casos_actividades.plot.bar(alpha=1 , title=\"Gráfico de barras variable Fatal \" , xlabel=\"Fatal\" , ylabel=\"Frecuencia\") #El dataset tiene basura"
   ]
  },
  {
   "cell_type": "code",
   "execution_count": 5,
   "id": "9b4afe30",
   "metadata": {
    "execution": {
     "iopub.execute_input": "2022-08-30T01:03:13.265659Z",
     "iopub.status.busy": "2022-08-30T01:03:13.264986Z",
     "iopub.status.idle": "2022-08-30T01:03:13.469910Z",
     "shell.execute_reply": "2022-08-30T01:03:13.468090Z"
    },
    "papermill": {
     "duration": 0.2141,
     "end_time": "2022-08-30T01:03:13.472308",
     "exception": false,
     "start_time": "2022-08-30T01:03:13.258208",
     "status": "completed"
    },
    "tags": []
   },
   "outputs": [
    {
     "data": {
      "image/png": "[encoded data removed]",
      "text/plain": [
       "<Figure size 432x288 with 1 Axes>"
      ]
     },
     "metadata": {
      "needs_background": "light"
     },
     "output_type": "display_data"
    }
   ],
   "source": [
    "grf_a4= ds_attacks.Country.value_counts()[:2].plot.bar(alpha=0.6 , title=\"Gráfico de barras variable País \" , xlabel=\"País\" , ylabel=\"Frecuencia\") "
   ]
  },
  {
   "cell_type": "markdown",
   "id": "a167bdb7",
   "metadata": {
    "papermill": {
     "duration": 0.005668,
     "end_time": "2022-08-30T01:03:13.484097",
     "exception": false,
     "start_time": "2022-08-30T01:03:13.478429",
     "status": "completed"
    },
    "tags": []
   },
   "source": [
    "c) Crear un nuevo dataframe **shark_attacks** que contenga unicamente los ataques correspondientes a los dos países del punto b"
   ]
  },
  {
   "cell_type": "code",
   "execution_count": 6,
   "id": "ce925e7d",
   "metadata": {
    "execution": {
     "iopub.execute_input": "2022-08-30T01:03:13.498390Z",
     "iopub.status.busy": "2022-08-30T01:03:13.497465Z",
     "iopub.status.idle": "2022-08-30T01:03:13.508563Z",
     "shell.execute_reply": "2022-08-30T01:03:13.507831Z"
    },
    "papermill": {
     "duration": 0.020532,
     "end_time": "2022-08-30T01:03:13.510647",
     "exception": false,
     "start_time": "2022-08-30T01:03:13.490115",
     "status": "completed"
    },
    "tags": []
   },
   "outputs": [
    {
     "data": {
      "text/html": [
       "<div>\n",
       "<style scoped>\n",
       "    .dataframe tbody tr th:only-of-type {\n",
       "        vertical-align: middle;\n",
       "    }\n",
       "\n",
       "    .dataframe tbody tr th {\n",
       "        vertical-align: top;\n",
       "    }\n",
       "\n",
       "    .dataframe thead th {\n",
       "        text-align: right;\n",
       "    }\n",
       "</style>\n",
       "<table border=\"1\" class=\"dataframe\">\n",
       "  <thead>\n",
       "    <tr style=\"text-align: right;\">\n",
       "      <th></th>\n",
       "      <th>country</th>\n",
       "      <th>cases</th>\n",
       "    </tr>\n",
       "  </thead>\n",
       "  <tbody>\n",
       "    <tr>\n",
       "      <th>0</th>\n",
       "      <td>USA</td>\n",
       "      <td>1868</td>\n",
       "    </tr>\n",
       "    <tr>\n",
       "      <th>1</th>\n",
       "      <td>AUSTRALIA</td>\n",
       "      <td>1046</td>\n",
       "    </tr>\n",
       "  </tbody>\n",
       "</table>\n",
       "</div>"
      ],
      "text/plain": [
       "     country  cases\n",
       "0        USA   1868\n",
       "1  AUSTRALIA   1046"
      ]
     },
     "execution_count": 6,
     "metadata": {},
     "output_type": "execute_result"
    }
   ],
   "source": [
    "casos_p=ds_attacks.Country.value_counts()[:2]\n",
    "ds_casos_p=pd.DataFrame(data=zip(casos_p.index,casos_p.values), columns=['country','cases'])\n",
    "ds_casos_p"
   ]
  },
  {
   "cell_type": "markdown",
   "id": "7bbdfcac",
   "metadata": {
    "papermill": {
     "duration": 0.005548,
     "end_time": "2022-08-30T01:03:13.522367",
     "exception": false,
     "start_time": "2022-08-30T01:03:13.516819",
     "status": "completed"
    },
    "tags": []
   },
   "source": [
    "#### d) Registros con valores inconsistentes:\n",
    "* La varible \"Sex\" debe contener únicamente los valores F, M . Eliminar los que no correspondan y también los valores faltantes.\n",
    "* La variable \"Age\" debe contener únicamente valores numéricos.Eliminar los valores que no correspondan, reemplazar los valores faltantes por 0 y convertir el tipo de dato a entero.\n",
    "* La variable Year debe contener únicamente valores del tipo AAAA (Ej: 1890,1916,etc). Modificar los valores y convertir el tipo de dato a entero. *Hint : str.replace(...)* . Filtrar los registros desde el 1800 en adelante."
   ]
  },
  {
   "cell_type": "code",
   "execution_count": 7,
   "id": "7132ee9d",
   "metadata": {
    "execution": {
     "iopub.execute_input": "2022-08-30T01:03:13.536227Z",
     "iopub.status.busy": "2022-08-30T01:03:13.535537Z",
     "iopub.status.idle": "2022-08-30T01:03:13.737794Z",
     "shell.execute_reply": "2022-08-30T01:03:13.736920Z"
    },
    "papermill": {
     "duration": 0.211622,
     "end_time": "2022-08-30T01:03:13.739892",
     "exception": false,
     "start_time": "2022-08-30T01:03:13.528270",
     "status": "completed"
    },
    "tags": []
   },
   "outputs": [
    {
     "data": {
      "image/png": "[encoded data removed]",
      "text/plain": [
       "<Figure size 432x288 with 1 Axes>"
      ]
     },
     "metadata": {
      "needs_background": "light"
     },
     "output_type": "display_data"
    }
   ],
   "source": [
    "ds_attacks.dropna(inplace=True)\n",
    "ds_attacksf=ds_attacks.drop(ds_attacks.query('Sex != \"F\" & Sex != \"M\"').index)\n",
    "sex_f=ds_attacksf['Sex'].value_counts()\n",
    "\n",
    "grf_a2=sex_f.plot.bar(alpha=1 , title=\"Gráfico de barras variable Sexo \" , xlabel=\"Sexo\" , ylabel=\"Frecuencia\") #El dataset tiene basura"
   ]
  },
  {
   "cell_type": "code",
   "execution_count": 8,
   "id": "cfe7f794",
   "metadata": {
    "execution": {
     "iopub.execute_input": "2022-08-30T01:03:13.754722Z",
     "iopub.status.busy": "2022-08-30T01:03:13.754089Z",
     "iopub.status.idle": "2022-08-30T01:03:13.767301Z",
     "shell.execute_reply": "2022-08-30T01:03:13.766046Z"
    },
    "papermill": {
     "duration": 0.023385,
     "end_time": "2022-08-30T01:03:13.769651",
     "exception": false,
     "start_time": "2022-08-30T01:03:13.746266",
     "status": "completed"
    },
    "tags": []
   },
   "outputs": [
    {
     "data": {
      "text/plain": [
       "17    127\n",
       "15    126\n",
       "18    122\n",
       "19    121\n",
       "16    119\n",
       "     ... \n",
       "72      1\n",
       "84      1\n",
       "86      1\n",
       "82      1\n",
       "74      1\n",
       "Name: Age, Length: 79, dtype: int64"
      ]
     },
     "execution_count": 8,
     "metadata": {},
     "output_type": "execute_result"
    }
   ],
   "source": [
    "ds_attacksf['Age'] = pd.to_numeric(ds_attacksf['Age'], errors='coerce') .fillna (0) \n",
    "ds_attacksf['Age'] = ds_attacksf['Age'].astype(int)\n",
    "ds_attacksf['Age'].value_counts()"
   ]
  },
  {
   "cell_type": "code",
   "execution_count": 9,
   "id": "373e127c",
   "metadata": {
    "execution": {
     "iopub.execute_input": "2022-08-30T01:03:13.784664Z",
     "iopub.status.busy": "2022-08-30T01:03:13.784271Z",
     "iopub.status.idle": "2022-08-30T01:03:13.797077Z",
     "shell.execute_reply": "2022-08-30T01:03:13.795865Z"
    },
    "papermill": {
     "duration": 0.022996,
     "end_time": "2022-08-30T01:03:13.799297",
     "exception": false,
     "start_time": "2022-08-30T01:03:13.776301",
     "status": "completed"
    },
    "tags": []
   },
   "outputs": [
    {
     "data": {
      "text/plain": [
       "0       2018\n",
       "1       2018\n",
       "2       2018\n",
       "6       2018\n",
       "7       2018\n",
       "        ... \n",
       "5758    2015\n",
       "5759    2015\n",
       "5760    2015\n",
       "5761    2015\n",
       "5762    2015\n",
       "Name: Year, Length: 2850, dtype: int64"
      ]
     },
     "execution_count": 9,
     "metadata": {},
     "output_type": "execute_result"
    }
   ],
   "source": [
    "\n",
    "ds_attacksf['Year'] = pd.to_numeric(ds_attacksf['Year'], errors='coerce') .fillna (1800) \n",
    "ds_attacksf['Year'] = ds_attacksf['Year'].astype(int)\n",
    "ds_attacksf['Year']"
   ]
  },
  {
   "cell_type": "code",
   "execution_count": 10,
   "id": "6733b470",
   "metadata": {
    "execution": {
     "iopub.execute_input": "2022-08-30T01:03:13.815232Z",
     "iopub.status.busy": "2022-08-30T01:03:13.814548Z",
     "iopub.status.idle": "2022-08-30T01:03:14.052832Z",
     "shell.execute_reply": "2022-08-30T01:03:14.051834Z"
    },
    "papermill": {
     "duration": 0.249356,
     "end_time": "2022-08-30T01:03:14.055639",
     "exception": false,
     "start_time": "2022-08-30T01:03:13.806283",
     "status": "completed"
    },
    "tags": []
   },
   "outputs": [
    {
     "data": {
      "image/png": "[encoded data removed]",
      "text/plain": [
       "<Figure size 432x288 with 1 Axes>"
      ]
     },
     "metadata": {
      "needs_background": "light"
     },
     "output_type": "display_data"
    }
   ],
   "source": [
    "actividades_principales = ds_attacksf['Activity'].value_counts()[:3]\n",
    "actividades_principales['Other'] = ds_attacksf['Activity'].value_counts()[3:].sum()\n",
    "grf_a = actividades_principales.plot.bar(alpha=1 , title=\"Gráfico de barras variable Actividad \" , xlabel=\"Actividades\" , ylabel=\"Frecuencia\") \n",
    "\n",
    "                                                            "
   ]
  },
  {
   "cell_type": "markdown",
   "id": "ca029af5",
   "metadata": {
    "papermill": {
     "duration": 0.007986,
     "end_time": "2022-08-30T01:03:14.073307",
     "exception": false,
     "start_time": "2022-08-30T01:03:14.065321",
     "status": "completed"
    },
    "tags": []
   },
   "source": [
    "#### f) Realizar una tabla cruzada para las siguientes combinaciones de variables:\n",
    "\n",
    "* Country-Sex\n",
    "* Country-Type\n",
    "* Year-Sex para los últimos 10 años."
   ]
  },
  {
   "cell_type": "code",
   "execution_count": 11,
   "id": "ae4730a9",
   "metadata": {
    "execution": {
     "iopub.execute_input": "2022-08-30T01:03:14.090110Z",
     "iopub.status.busy": "2022-08-30T01:03:14.089727Z",
     "iopub.status.idle": "2022-08-30T01:03:14.148409Z",
     "shell.execute_reply": "2022-08-30T01:03:14.147225Z"
    },
    "papermill": {
     "duration": 0.069201,
     "end_time": "2022-08-30T01:03:14.150594",
     "exception": false,
     "start_time": "2022-08-30T01:03:14.081393",
     "status": "completed"
    },
    "tags": []
   },
   "outputs": [
    {
     "data": {
      "text/html": [
       "<div>\n",
       "<style scoped>\n",
       "    .dataframe tbody tr th:only-of-type {\n",
       "        vertical-align: middle;\n",
       "    }\n",
       "\n",
       "    .dataframe tbody tr th {\n",
       "        vertical-align: top;\n",
       "    }\n",
       "\n",
       "    .dataframe thead th {\n",
       "        text-align: right;\n",
       "    }\n",
       "</style>\n",
       "<table border=\"1\" class=\"dataframe\">\n",
       "  <thead>\n",
       "    <tr style=\"text-align: right;\">\n",
       "      <th>Sex</th>\n",
       "      <th>F</th>\n",
       "      <th>M</th>\n",
       "    </tr>\n",
       "    <tr>\n",
       "      <th>Year</th>\n",
       "      <th></th>\n",
       "      <th></th>\n",
       "    </tr>\n",
       "  </thead>\n",
       "  <tbody>\n",
       "    <tr>\n",
       "      <th>2010</th>\n",
       "      <td>17</td>\n",
       "      <td>53</td>\n",
       "    </tr>\n",
       "    <tr>\n",
       "      <th>2011</th>\n",
       "      <td>7</td>\n",
       "      <td>78</td>\n",
       "    </tr>\n",
       "    <tr>\n",
       "      <th>2012</th>\n",
       "      <td>15</td>\n",
       "      <td>68</td>\n",
       "    </tr>\n",
       "    <tr>\n",
       "      <th>2013</th>\n",
       "      <td>13</td>\n",
       "      <td>71</td>\n",
       "    </tr>\n",
       "    <tr>\n",
       "      <th>2014</th>\n",
       "      <td>18</td>\n",
       "      <td>59</td>\n",
       "    </tr>\n",
       "    <tr>\n",
       "      <th>2015</th>\n",
       "      <td>21</td>\n",
       "      <td>82</td>\n",
       "    </tr>\n",
       "    <tr>\n",
       "      <th>2016</th>\n",
       "      <td>17</td>\n",
       "      <td>73</td>\n",
       "    </tr>\n",
       "    <tr>\n",
       "      <th>2017</th>\n",
       "      <td>23</td>\n",
       "      <td>51</td>\n",
       "    </tr>\n",
       "    <tr>\n",
       "      <th>2018</th>\n",
       "      <td>5</td>\n",
       "      <td>32</td>\n",
       "    </tr>\n",
       "  </tbody>\n",
       "</table>\n",
       "</div>"
      ],
      "text/plain": [
       "Sex    F   M\n",
       "Year        \n",
       "2010  17  53\n",
       "2011   7  78\n",
       "2012  15  68\n",
       "2013  13  71\n",
       "2014  18  59\n",
       "2015  21  82\n",
       "2016  17  73\n",
       "2017  23  51\n",
       "2018   5  32"
      ]
     },
     "execution_count": 11,
     "metadata": {},
     "output_type": "execute_result"
    }
   ],
   "source": [
    "cross_cs = pd.crosstab(ds_attacksf['Country'],ds_attacks['Sex'])\n",
    "cross_ct = pd.crosstab(ds_attacksf['Country'],ds_attacks['Type'])\n",
    "\n",
    "ds_attacks10 = ds_attacksf.query('Year > 2009')\n",
    "cross_ys = pd.crosstab(ds_attacks10['Year'],ds_attacks10['Sex'])\n",
    "cross_ys"
   ]
  },
  {
   "cell_type": "markdown",
   "id": "9e7ccacd",
   "metadata": {
    "papermill": {
     "duration": 0.006612,
     "end_time": "2022-08-30T01:03:14.164249",
     "exception": false,
     "start_time": "2022-08-30T01:03:14.157637",
     "status": "completed"
    },
    "tags": []
   },
   "source": [
    "#### g) Realizar los siguientes gráficos:\n",
    "\n",
    "* Grafico de Violin: colocar en el eje horizontal la variable **Sex** y en el eje vertical la variable **Age** seleccionado sólo los registros donde la edad sea mayor a 0.\n",
    "\n",
    "* Gráfico de densidad para la variable **Age** por sexo, seleccionado sólo los registros donde la edad sea mayor a 0.\n",
    "\n",
    "* Gráfico de barras con la cantidad de accidentes por año por país para los últimos 60 años."
   ]
  },
  {
   "cell_type": "code",
   "execution_count": 12,
   "id": "81e1ff71",
   "metadata": {
    "execution": {
     "iopub.execute_input": "2022-08-30T01:03:14.180375Z",
     "iopub.status.busy": "2022-08-30T01:03:14.179221Z",
     "iopub.status.idle": "2022-08-30T01:03:14.495052Z",
     "shell.execute_reply": "2022-08-30T01:03:14.493828Z"
    },
    "papermill": {
     "duration": 0.326883,
     "end_time": "2022-08-30T01:03:14.497903",
     "exception": false,
     "start_time": "2022-08-30T01:03:14.171020",
     "status": "completed"
    },
    "tags": []
   },
   "outputs": [
    {
     "data": {
      "image/png": "[encoded data removed]",
      "text/plain": [
       "<Figure size 360x360 with 1 Axes>"
      ]
     },
     "metadata": {
      "needs_background": "light"
     },
     "output_type": "display_data"
    }
   ],
   "source": [
    "sns.catplot(x = \"Sex\", y = \"Age\", data = ds_attacksf, kind = \"violin\");"
   ]
  },
  {
   "cell_type": "code",
   "execution_count": 13,
   "id": "1489a243",
   "metadata": {
    "execution": {
     "iopub.execute_input": "2022-08-30T01:03:14.514727Z",
     "iopub.status.busy": "2022-08-30T01:03:14.513958Z",
     "iopub.status.idle": "2022-08-30T01:03:14.763098Z",
     "shell.execute_reply": "2022-08-30T01:03:14.762179Z"
    },
    "papermill": {
     "duration": 0.260372,
     "end_time": "2022-08-30T01:03:14.765677",
     "exception": false,
     "start_time": "2022-08-30T01:03:14.505305",
     "status": "completed"
    },
    "tags": []
   },
   "outputs": [
    {
     "data": {
      "text/plain": [
       "[Text(0.5, 1.0, 'Densidad variable Age'),\n",
       " Text(0.5, 0, 'Age'),\n",
       " Text(0, 0.5, 'Densidad')]"
      ]
     },
     "execution_count": 13,
     "metadata": {},
     "output_type": "execute_result"
    },
    {
     "data": {
      "image/png": "[encoded data removed]",
      "text/plain": [
       "<Figure size 432x288 with 1 Axes>"
      ]
     },
     "metadata": {
      "needs_background": "light"
     },
     "output_type": "display_data"
    }
   ],
   "source": [
    "# Gráficos de densidad con Seaborn\n",
    "sns.kdeplot(data=ds_attacksf['Age'].pipe(lambda x: x[x>0])).set(title=\"Densidad variable Age\",xlabel=\"Age\",ylabel=\"Densidad\") #pipe para filtrar"
   ]
  },
  {
   "cell_type": "code",
   "execution_count": 14,
   "id": "cdc0e27e",
   "metadata": {
    "execution": {
     "iopub.execute_input": "2022-08-30T01:03:14.784387Z",
     "iopub.status.busy": "2022-08-30T01:03:14.783687Z",
     "iopub.status.idle": "2022-08-30T01:03:15.736536Z",
     "shell.execute_reply": "2022-08-30T01:03:15.735527Z"
    },
    "papermill": {
     "duration": 0.964426,
     "end_time": "2022-08-30T01:03:15.738894",
     "exception": false,
     "start_time": "2022-08-30T01:03:14.774468",
     "status": "completed"
    },
    "tags": []
   },
   "outputs": [
    {
     "data": {
      "text/plain": [
       "[Text(0.5, 1.0, 'Frecuencia de ataques en los últimos 60 años'),\n",
       " Text(0, 0.5, 'Ataques'),\n",
       " Text(0.5, 0, 'Año')]"
      ]
     },
     "execution_count": 14,
     "metadata": {},
     "output_type": "execute_result"
    },
    {
     "data": {
      "image/png": "[encoded data removed]",
      "text/plain": [
       "<Figure size 432x288 with 1 Axes>"
      ]
     },
     "metadata": {
      "needs_background": "light"
     },
     "output_type": "display_data"
    }
   ],
   "source": [
    "ds_attacks_year = ds_attacksf.query('Year >= 1962') \n",
    "ds_attacks_year=ds_attacks_year.groupby(['Year']).count()\n",
    "\n",
    "eje_x = ds_attacks_year.index.tolist()  \n",
    "eje_y = ds_attacks_year['Case Number'].tolist() \n",
    "                             \n",
    "sns.barplot(x=eje_x, y=eje_y, data=ds_attacks_year ,alpha=0.5).set(title=\"Frecuencia de ataques en los últimos 60 años\",ylabel='Ataques',xlabel='Año')\n",
    "#se ve feo porque son muchos años"
   ]
  }
 ],
 "metadata": {
  "kernelspec": {
   "display_name": "Python 3",
   "language": "python",
   "name": "python3"
  },
  "language_info": {
   "codemirror_mode": {
    "name": "ipython",
    "version": 3
   },
   "file_extension": ".py",
   "mimetype": "text/x-python",
   "name": "python",
   "nbconvert_exporter": "python",
   "pygments_lexer": "ipython3",
   "version": "3.7.12"
  },
  "papermill": {
   "default_parameters": {},
   "duration": 13.425952,
   "end_time": "2022-08-30T01:03:16.471823",
   "environment_variables": {},
   "exception": null,
   "input_path": "__notebook__.ipynb",
   "output_path": "__notebook__.ipynb",
   "parameters": {},
   "start_time": "2022-08-30T01:03:03.045871",
   "version": "2.3.4"
  }
 },
 "nbformat": 4,
 "nbformat_minor": 5
}
