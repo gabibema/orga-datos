{
 "cells": [
  {
   "cell_type": "code",
   "execution_count": 1,
   "id": "469183b6",
   "metadata": {
    "_cell_guid": "b1076dfc-b9ad-4769-8c92-a6c4dae69d19",
    "_uuid": "8f2839f25d086af736a60e9eeb907d3b93b6e0e5",
    "execution": {
     "iopub.execute_input": "2022-08-30T01:01:11.899631Z",
     "iopub.status.busy": "2022-08-30T01:01:11.899165Z",
     "iopub.status.idle": "2022-08-30T01:01:11.911416Z",
     "shell.execute_reply": "2022-08-30T01:01:11.910328Z"
    },
    "papermill": {
     "duration": 0.023181,
     "end_time": "2022-08-30T01:01:11.913990",
     "exception": false,
     "start_time": "2022-08-30T01:01:11.890809",
     "status": "completed"
    },
    "tags": []
   },
   "outputs": [],
   "source": [
    "\n",
    "import numpy as np # linear algebra\n",
    "import pandas as pd # data processing, CSV file I/O (e.g. pd.read_csv)\n"
   ]
  },
  {
   "cell_type": "markdown",
   "id": "0e77acf3",
   "metadata": {
    "papermill": {
     "duration": 0.005038,
     "end_time": "2022-08-30T01:01:11.924623",
     "exception": false,
     "start_time": "2022-08-30T01:01:11.919585",
     "status": "completed"
    },
    "tags": []
   },
   "source": [
    "#### a) Cargar el dataset en un dataframe de pandas\n",
    "\n",
    "* ¿Cuál es la cantidad de filas del datset? ¿y la cantidad de columnas?\n",
    "* Listar los nombres de las columnas y sus tipos de dato.\n",
    "* Mostrar los datos de las 5 primeras filas\n",
    "* Mostrar si existen datos faltantes (N/A)\n",
    "¿Qué porcentaje representan del total de datos?"
   ]
  },
  {
   "cell_type": "code",
   "execution_count": 2,
   "id": "fb8fc2c1",
   "metadata": {
    "execution": {
     "iopub.execute_input": "2022-08-30T01:01:11.937205Z",
     "iopub.status.busy": "2022-08-30T01:01:11.936504Z",
     "iopub.status.idle": "2022-08-30T01:01:11.965225Z",
     "shell.execute_reply": "2022-08-30T01:01:11.964336Z"
    },
    "papermill": {
     "duration": 0.037539,
     "end_time": "2022-08-30T01:01:11.967589",
     "exception": false,
     "start_time": "2022-08-30T01:01:11.930050",
     "status": "completed"
    },
    "tags": []
   },
   "outputs": [
    {
     "data": {
      "text/plain": [
       "(49, 24)"
      ]
     },
     "execution_count": 2,
     "metadata": {},
     "output_type": "execute_result"
    }
   ],
   "source": [
    "peliculas=pd.read_csv('../input/peliculascsv/peliculas.csv') \n",
    "peliculas.shape"
   ]
  },
  {
   "cell_type": "code",
   "execution_count": 3,
   "id": "c6ad820c",
   "metadata": {
    "execution": {
     "iopub.execute_input": "2022-08-30T01:01:11.980604Z",
     "iopub.status.busy": "2022-08-30T01:01:11.980203Z",
     "iopub.status.idle": "2022-08-30T01:01:12.010056Z",
     "shell.execute_reply": "2022-08-30T01:01:12.008388Z"
    },
    "papermill": {
     "duration": 0.040446,
     "end_time": "2022-08-30T01:01:12.013624",
     "exception": false,
     "start_time": "2022-08-30T01:01:11.973178",
     "status": "completed"
    },
    "tags": []
   },
   "outputs": [
    {
     "name": "stdout",
     "output_type": "stream",
     "text": [
      "<class 'pandas.core.frame.DataFrame'>\n",
      "RangeIndex: 49 entries, 0 to 48\n",
      "Data columns (total 24 columns):\n",
      " #   Column                 Dtype  \n",
      "---  ------                 -----  \n",
      " 0   adult                  bool   \n",
      " 1   belongs_to_collection  object \n",
      " 2   budget                 float64\n",
      " 3   genres                 object \n",
      " 4   homepage               object \n",
      " 5   id                     int64  \n",
      " 6   imdb_id                object \n",
      " 7   original_language      object \n",
      " 8   original_title         object \n",
      " 9   overview               object \n",
      " 10  popularity             float64\n",
      " 11  poster_path            object \n",
      " 12  production_companies   object \n",
      " 13  production_countries   object \n",
      " 14  release_date           object \n",
      " 15  revenue                int64  \n",
      " 16  runtime                int64  \n",
      " 17  spoken_languages       object \n",
      " 18  status                 object \n",
      " 19  tagline                object \n",
      " 20  title                  object \n",
      " 21  video                  bool   \n",
      " 22  vote_average           float64\n",
      " 23  vote_count             int64  \n",
      "dtypes: bool(2), float64(3), int64(4), object(15)\n",
      "memory usage: 8.6+ KB\n"
     ]
    }
   ],
   "source": [
    "peliculas.info(show_counts=False)"
   ]
  },
  {
   "cell_type": "code",
   "execution_count": 4,
   "id": "9627bee3",
   "metadata": {
    "execution": {
     "iopub.execute_input": "2022-08-30T01:01:12.027487Z",
     "iopub.status.busy": "2022-08-30T01:01:12.026741Z",
     "iopub.status.idle": "2022-08-30T01:01:12.065818Z",
     "shell.execute_reply": "2022-08-30T01:01:12.064648Z"
    },
    "papermill": {
     "duration": 0.049095,
     "end_time": "2022-08-30T01:01:12.068635",
     "exception": false,
     "start_time": "2022-08-30T01:01:12.019540",
     "status": "completed"
    },
    "tags": []
   },
   "outputs": [
    {
     "data": {
      "text/html": [
       "<div>\n",
       "<style scoped>\n",
       "    .dataframe tbody tr th:only-of-type {\n",
       "        vertical-align: middle;\n",
       "    }\n",
       "\n",
       "    .dataframe tbody tr th {\n",
       "        vertical-align: top;\n",
       "    }\n",
       "\n",
       "    .dataframe thead th {\n",
       "        text-align: right;\n",
       "    }\n",
       "</style>\n",
       "<table border=\"1\" class=\"dataframe\">\n",
       "  <thead>\n",
       "    <tr style=\"text-align: right;\">\n",
       "      <th></th>\n",
       "      <th>adult</th>\n",
       "      <th>belongs_to_collection</th>\n",
       "      <th>budget</th>\n",
       "      <th>genres</th>\n",
       "      <th>homepage</th>\n",
       "      <th>id</th>\n",
       "      <th>imdb_id</th>\n",
       "      <th>original_language</th>\n",
       "      <th>original_title</th>\n",
       "      <th>overview</th>\n",
       "      <th>...</th>\n",
       "      <th>release_date</th>\n",
       "      <th>revenue</th>\n",
       "      <th>runtime</th>\n",
       "      <th>spoken_languages</th>\n",
       "      <th>status</th>\n",
       "      <th>tagline</th>\n",
       "      <th>title</th>\n",
       "      <th>video</th>\n",
       "      <th>vote_average</th>\n",
       "      <th>vote_count</th>\n",
       "    </tr>\n",
       "  </thead>\n",
       "  <tbody>\n",
       "    <tr>\n",
       "      <th>0</th>\n",
       "      <td>False</td>\n",
       "      <td>{'id': 10194, 'name': 'Toy Story Collection', ...</td>\n",
       "      <td>30000000.0</td>\n",
       "      <td>[{'id': 16, 'name': 'Animation'}, {'id': 35, '...</td>\n",
       "      <td>http://toystory.disney.com/toy-story</td>\n",
       "      <td>862</td>\n",
       "      <td>tt0114709</td>\n",
       "      <td>en</td>\n",
       "      <td>Toy Story</td>\n",
       "      <td>Led by Woody, Andy's toys live happily in his ...</td>\n",
       "      <td>...</td>\n",
       "      <td>1995-10-30</td>\n",
       "      <td>373554033</td>\n",
       "      <td>81</td>\n",
       "      <td>[{'iso_639_1': 'en', 'name': 'English'}]</td>\n",
       "      <td>Released</td>\n",
       "      <td>NaN</td>\n",
       "      <td>Toy Story</td>\n",
       "      <td>False</td>\n",
       "      <td>7.7</td>\n",
       "      <td>5415</td>\n",
       "    </tr>\n",
       "    <tr>\n",
       "      <th>1</th>\n",
       "      <td>False</td>\n",
       "      <td>NaN</td>\n",
       "      <td>65000000.0</td>\n",
       "      <td>[{'id': 12, 'name': 'Adventure'}, {'id': 14, '...</td>\n",
       "      <td>NaN</td>\n",
       "      <td>8844</td>\n",
       "      <td>tt0113497</td>\n",
       "      <td>en</td>\n",
       "      <td>Jumanji</td>\n",
       "      <td>When siblings Judy and Peter discover an encha...</td>\n",
       "      <td>...</td>\n",
       "      <td>1995-12-15</td>\n",
       "      <td>262797249</td>\n",
       "      <td>104</td>\n",
       "      <td>[{'iso_639_1': 'en', 'name': 'English'}, {'iso...</td>\n",
       "      <td>Released</td>\n",
       "      <td>Roll the dice and unleash the excitement!</td>\n",
       "      <td>Jumanji</td>\n",
       "      <td>False</td>\n",
       "      <td>6.9</td>\n",
       "      <td>2413</td>\n",
       "    </tr>\n",
       "    <tr>\n",
       "      <th>2</th>\n",
       "      <td>False</td>\n",
       "      <td>{'id': 119050, 'name': 'Grumpy Old Men Collect...</td>\n",
       "      <td>NaN</td>\n",
       "      <td>[{'id': 10749, 'name': 'Romance'}, {'id': 35, ...</td>\n",
       "      <td>NaN</td>\n",
       "      <td>15602</td>\n",
       "      <td>tt0113228</td>\n",
       "      <td>en</td>\n",
       "      <td>Grumpier Old Men</td>\n",
       "      <td>A family wedding reignites the ancient feud be...</td>\n",
       "      <td>...</td>\n",
       "      <td>1995-12-22</td>\n",
       "      <td>0</td>\n",
       "      <td>101</td>\n",
       "      <td>[{'iso_639_1': 'en', 'name': 'English'}]</td>\n",
       "      <td>Released</td>\n",
       "      <td>Still Yelling. Still Fighting. Still Ready for...</td>\n",
       "      <td>Grumpier Old Men</td>\n",
       "      <td>False</td>\n",
       "      <td>6.5</td>\n",
       "      <td>92</td>\n",
       "    </tr>\n",
       "    <tr>\n",
       "      <th>3</th>\n",
       "      <td>False</td>\n",
       "      <td>NaN</td>\n",
       "      <td>16000000.0</td>\n",
       "      <td>[{'id': 35, 'name': 'Comedy'}, {'id': 18, 'nam...</td>\n",
       "      <td>NaN</td>\n",
       "      <td>31357</td>\n",
       "      <td>tt0114885</td>\n",
       "      <td>en</td>\n",
       "      <td>Waiting to Exhale</td>\n",
       "      <td>Cheated on, mistreated and stepped on, the wom...</td>\n",
       "      <td>...</td>\n",
       "      <td>1995-12-22</td>\n",
       "      <td>81452156</td>\n",
       "      <td>127</td>\n",
       "      <td>[{'iso_639_1': 'en', 'name': 'English'}]</td>\n",
       "      <td>Released</td>\n",
       "      <td>Friends are the people who let you be yourself...</td>\n",
       "      <td>Waiting to Exhale</td>\n",
       "      <td>False</td>\n",
       "      <td>6.1</td>\n",
       "      <td>34</td>\n",
       "    </tr>\n",
       "    <tr>\n",
       "      <th>4</th>\n",
       "      <td>False</td>\n",
       "      <td>{'id': 96871, 'name': 'Father of the Bride Col...</td>\n",
       "      <td>0.0</td>\n",
       "      <td>[{'id': 35, 'name': 'Comedy'}]</td>\n",
       "      <td>NaN</td>\n",
       "      <td>11862</td>\n",
       "      <td>tt0113041</td>\n",
       "      <td>en</td>\n",
       "      <td>Father of the Bride Part II</td>\n",
       "      <td>Just when George Banks has recovered from his ...</td>\n",
       "      <td>...</td>\n",
       "      <td>1995-02-10</td>\n",
       "      <td>76578911</td>\n",
       "      <td>106</td>\n",
       "      <td>[{'iso_639_1': 'en', 'name': 'English'}]</td>\n",
       "      <td>Released</td>\n",
       "      <td>Just When His World Is Back To Normal... He's ...</td>\n",
       "      <td>Father of the Bride Part II</td>\n",
       "      <td>False</td>\n",
       "      <td>5.7</td>\n",
       "      <td>173</td>\n",
       "    </tr>\n",
       "  </tbody>\n",
       "</table>\n",
       "<p>5 rows × 24 columns</p>\n",
       "</div>"
      ],
      "text/plain": [
       "   adult                              belongs_to_collection      budget  \\\n",
       "0  False  {'id': 10194, 'name': 'Toy Story Collection', ...  30000000.0   \n",
       "1  False                                                NaN  65000000.0   \n",
       "2  False  {'id': 119050, 'name': 'Grumpy Old Men Collect...         NaN   \n",
       "3  False                                                NaN  16000000.0   \n",
       "4  False  {'id': 96871, 'name': 'Father of the Bride Col...         0.0   \n",
       "\n",
       "                                              genres  \\\n",
       "0  [{'id': 16, 'name': 'Animation'}, {'id': 35, '...   \n",
       "1  [{'id': 12, 'name': 'Adventure'}, {'id': 14, '...   \n",
       "2  [{'id': 10749, 'name': 'Romance'}, {'id': 35, ...   \n",
       "3  [{'id': 35, 'name': 'Comedy'}, {'id': 18, 'nam...   \n",
       "4                     [{'id': 35, 'name': 'Comedy'}]   \n",
       "\n",
       "                               homepage     id    imdb_id original_language  \\\n",
       "0  http://toystory.disney.com/toy-story    862  tt0114709                en   \n",
       "1                                   NaN   8844  tt0113497                en   \n",
       "2                                   NaN  15602  tt0113228                en   \n",
       "3                                   NaN  31357  tt0114885                en   \n",
       "4                                   NaN  11862  tt0113041                en   \n",
       "\n",
       "                original_title  \\\n",
       "0                    Toy Story   \n",
       "1                      Jumanji   \n",
       "2             Grumpier Old Men   \n",
       "3            Waiting to Exhale   \n",
       "4  Father of the Bride Part II   \n",
       "\n",
       "                                            overview  ...  release_date  \\\n",
       "0  Led by Woody, Andy's toys live happily in his ...  ...    1995-10-30   \n",
       "1  When siblings Judy and Peter discover an encha...  ...    1995-12-15   \n",
       "2  A family wedding reignites the ancient feud be...  ...    1995-12-22   \n",
       "3  Cheated on, mistreated and stepped on, the wom...  ...    1995-12-22   \n",
       "4  Just when George Banks has recovered from his ...  ...    1995-02-10   \n",
       "\n",
       "     revenue runtime                                   spoken_languages  \\\n",
       "0  373554033      81           [{'iso_639_1': 'en', 'name': 'English'}]   \n",
       "1  262797249     104  [{'iso_639_1': 'en', 'name': 'English'}, {'iso...   \n",
       "2          0     101           [{'iso_639_1': 'en', 'name': 'English'}]   \n",
       "3   81452156     127           [{'iso_639_1': 'en', 'name': 'English'}]   \n",
       "4   76578911     106           [{'iso_639_1': 'en', 'name': 'English'}]   \n",
       "\n",
       "     status                                            tagline  \\\n",
       "0  Released                                                NaN   \n",
       "1  Released          Roll the dice and unleash the excitement!   \n",
       "2  Released  Still Yelling. Still Fighting. Still Ready for...   \n",
       "3  Released  Friends are the people who let you be yourself...   \n",
       "4  Released  Just When His World Is Back To Normal... He's ...   \n",
       "\n",
       "                         title  video vote_average vote_count  \n",
       "0                    Toy Story  False          7.7       5415  \n",
       "1                      Jumanji  False          6.9       2413  \n",
       "2             Grumpier Old Men  False          6.5         92  \n",
       "3            Waiting to Exhale  False          6.1         34  \n",
       "4  Father of the Bride Part II  False          5.7        173  \n",
       "\n",
       "[5 rows x 24 columns]"
      ]
     },
     "execution_count": 4,
     "metadata": {},
     "output_type": "execute_result"
    }
   ],
   "source": [
    "peliculas.head()"
   ]
  },
  {
   "cell_type": "code",
   "execution_count": 5,
   "id": "3018b3f8",
   "metadata": {
    "execution": {
     "iopub.execute_input": "2022-08-30T01:01:12.082519Z",
     "iopub.status.busy": "2022-08-30T01:01:12.082085Z",
     "iopub.status.idle": "2022-08-30T01:01:12.092071Z",
     "shell.execute_reply": "2022-08-30T01:01:12.090466Z"
    },
    "papermill": {
     "duration": 0.020164,
     "end_time": "2022-08-30T01:01:12.095008",
     "exception": false,
     "start_time": "2022-08-30T01:01:12.074844",
     "status": "completed"
    },
    "tags": []
   },
   "outputs": [
    {
     "name": "stdout",
     "output_type": "stream",
     "text": [
      "Faltan: 9.438775510204081% de datos\n"
     ]
    }
   ],
   "source": [
    "info = peliculas.shape\n",
    "cantidad_datos = info[0]*info[1]\n",
    "lista_faltantes = peliculas.isna().sum()\n",
    "\n",
    "\n",
    "print(f\"Faltan: {(lista_faltantes.sum()/cantidad_datos)*100}% de datos\")"
   ]
  },
  {
   "cell_type": "markdown",
   "id": "3809eb29",
   "metadata": {
    "papermill": {
     "duration": 0.005645,
     "end_time": "2022-08-30T01:01:12.106929",
     "exception": false,
     "start_time": "2022-08-30T01:01:12.101284",
     "status": "completed"
    },
    "tags": []
   },
   "source": [
    "#### b)  Generar un nuevo dataframe **dataset_peliculas** que contenga las siguientes columnas: \n",
    "​\n",
    "* *original_title*\n",
    "* *title* \n",
    "* *adult*\n",
    "* *original_language*\n",
    "* *popularity*\n",
    "* *budget*\n",
    "* *release_date*\n",
    "* *revenue*\n",
    "* *vote_count*\n",
    "​\n",
    "\n",
    "Verificar si existen datos faltantes, en ese caso eliminar las filas que los contengan. \n",
    "​\n",
    "A partir del atributo release_date generar dos nuevos atributos **year y month**\n",
    "​\n",
    "Guardar el dataset en un archivo csv con el nombre dataset_peliculas."
   ]
  },
  {
   "cell_type": "code",
   "execution_count": 6,
   "id": "0a64adea",
   "metadata": {
    "execution": {
     "iopub.execute_input": "2022-08-30T01:01:12.120642Z",
     "iopub.status.busy": "2022-08-30T01:01:12.120214Z",
     "iopub.status.idle": "2022-08-30T01:01:12.141113Z",
     "shell.execute_reply": "2022-08-30T01:01:12.139957Z"
    },
    "papermill": {
     "duration": 0.030848,
     "end_time": "2022-08-30T01:01:12.143786",
     "exception": false,
     "start_time": "2022-08-30T01:01:12.112938",
     "status": "completed"
    },
    "tags": []
   },
   "outputs": [
    {
     "data": {
      "text/html": [
       "<div>\n",
       "<style scoped>\n",
       "    .dataframe tbody tr th:only-of-type {\n",
       "        vertical-align: middle;\n",
       "    }\n",
       "\n",
       "    .dataframe tbody tr th {\n",
       "        vertical-align: top;\n",
       "    }\n",
       "\n",
       "    .dataframe thead th {\n",
       "        text-align: right;\n",
       "    }\n",
       "</style>\n",
       "<table border=\"1\" class=\"dataframe\">\n",
       "  <thead>\n",
       "    <tr style=\"text-align: right;\">\n",
       "      <th></th>\n",
       "      <th>original_title</th>\n",
       "      <th>title</th>\n",
       "      <th>adult</th>\n",
       "      <th>original_language</th>\n",
       "      <th>popularity</th>\n",
       "      <th>budget</th>\n",
       "      <th>release_date</th>\n",
       "      <th>revenue</th>\n",
       "      <th>vote_count</th>\n",
       "    </tr>\n",
       "  </thead>\n",
       "  <tbody>\n",
       "    <tr>\n",
       "      <th>0</th>\n",
       "      <td>Toy Story</td>\n",
       "      <td>Toy Story</td>\n",
       "      <td>False</td>\n",
       "      <td>en</td>\n",
       "      <td>21.946943</td>\n",
       "      <td>30000000.0</td>\n",
       "      <td>1995-10-30</td>\n",
       "      <td>373554033</td>\n",
       "      <td>5415</td>\n",
       "    </tr>\n",
       "    <tr>\n",
       "      <th>1</th>\n",
       "      <td>Jumanji</td>\n",
       "      <td>Jumanji</td>\n",
       "      <td>False</td>\n",
       "      <td>en</td>\n",
       "      <td>17.015539</td>\n",
       "      <td>65000000.0</td>\n",
       "      <td>1995-12-15</td>\n",
       "      <td>262797249</td>\n",
       "      <td>2413</td>\n",
       "    </tr>\n",
       "    <tr>\n",
       "      <th>3</th>\n",
       "      <td>Waiting to Exhale</td>\n",
       "      <td>Waiting to Exhale</td>\n",
       "      <td>False</td>\n",
       "      <td>en</td>\n",
       "      <td>3.859495</td>\n",
       "      <td>16000000.0</td>\n",
       "      <td>1995-12-22</td>\n",
       "      <td>81452156</td>\n",
       "      <td>34</td>\n",
       "    </tr>\n",
       "    <tr>\n",
       "      <th>4</th>\n",
       "      <td>Father of the Bride Part II</td>\n",
       "      <td>Father of the Bride Part II</td>\n",
       "      <td>False</td>\n",
       "      <td>en</td>\n",
       "      <td>8.387519</td>\n",
       "      <td>0.0</td>\n",
       "      <td>1995-02-10</td>\n",
       "      <td>76578911</td>\n",
       "      <td>173</td>\n",
       "    </tr>\n",
       "    <tr>\n",
       "      <th>5</th>\n",
       "      <td>Heat</td>\n",
       "      <td>Heat</td>\n",
       "      <td>False</td>\n",
       "      <td>en</td>\n",
       "      <td>17.924927</td>\n",
       "      <td>60000000.0</td>\n",
       "      <td>1995-12-15</td>\n",
       "      <td>187436818</td>\n",
       "      <td>1886</td>\n",
       "    </tr>\n",
       "  </tbody>\n",
       "</table>\n",
       "</div>"
      ],
      "text/plain": [
       "                original_title                        title  adult  \\\n",
       "0                    Toy Story                    Toy Story  False   \n",
       "1                      Jumanji                      Jumanji  False   \n",
       "3            Waiting to Exhale            Waiting to Exhale  False   \n",
       "4  Father of the Bride Part II  Father of the Bride Part II  False   \n",
       "5                         Heat                         Heat  False   \n",
       "\n",
       "  original_language  popularity      budget release_date    revenue  \\\n",
       "0                en   21.946943  30000000.0   1995-10-30  373554033   \n",
       "1                en   17.015539  65000000.0   1995-12-15  262797249   \n",
       "3                en    3.859495  16000000.0   1995-12-22   81452156   \n",
       "4                en    8.387519         0.0   1995-02-10   76578911   \n",
       "5                en   17.924927  60000000.0   1995-12-15  187436818   \n",
       "\n",
       "   vote_count  \n",
       "0        5415  \n",
       "1        2413  \n",
       "3          34  \n",
       "4         173  \n",
       "5        1886  "
      ]
     },
     "execution_count": 6,
     "metadata": {},
     "output_type": "execute_result"
    }
   ],
   "source": [
    "nueva_tabla = pd.DataFrame(data=peliculas,columns=[\"original_title\",\"title\",\"adult\",\"original_language\",\"popularity\",\"budget\",\"release_date\",\"revenue\",\"vote_count\"])\n",
    "nueva_tabla.dropna(inplace=True)\n",
    "nueva_tabla.head()\n",
    "\n",
    "\n"
   ]
  },
  {
   "cell_type": "code",
   "execution_count": 7,
   "id": "c2c18fa2",
   "metadata": {
    "execution": {
     "iopub.execute_input": "2022-08-30T01:01:12.158536Z",
     "iopub.status.busy": "2022-08-30T01:01:12.158040Z",
     "iopub.status.idle": "2022-08-30T01:01:12.172996Z",
     "shell.execute_reply": "2022-08-30T01:01:12.171854Z"
    },
    "papermill": {
     "duration": 0.02512,
     "end_time": "2022-08-30T01:01:12.175410",
     "exception": false,
     "start_time": "2022-08-30T01:01:12.150290",
     "status": "completed"
    },
    "tags": []
   },
   "outputs": [
    {
     "data": {
      "text/html": [
       "<div>\n",
       "<style scoped>\n",
       "    .dataframe tbody tr th:only-of-type {\n",
       "        vertical-align: middle;\n",
       "    }\n",
       "\n",
       "    .dataframe tbody tr th {\n",
       "        vertical-align: top;\n",
       "    }\n",
       "\n",
       "    .dataframe thead th {\n",
       "        text-align: right;\n",
       "    }\n",
       "</style>\n",
       "<table border=\"1\" class=\"dataframe\">\n",
       "  <thead>\n",
       "    <tr style=\"text-align: right;\">\n",
       "      <th></th>\n",
       "      <th>year</th>\n",
       "      <th>month</th>\n",
       "      <th>day</th>\n",
       "    </tr>\n",
       "  </thead>\n",
       "  <tbody>\n",
       "    <tr>\n",
       "      <th>0</th>\n",
       "      <td>1995</td>\n",
       "      <td>10</td>\n",
       "      <td>30</td>\n",
       "    </tr>\n",
       "    <tr>\n",
       "      <th>1</th>\n",
       "      <td>1995</td>\n",
       "      <td>12</td>\n",
       "      <td>15</td>\n",
       "    </tr>\n",
       "    <tr>\n",
       "      <th>3</th>\n",
       "      <td>1995</td>\n",
       "      <td>12</td>\n",
       "      <td>22</td>\n",
       "    </tr>\n",
       "    <tr>\n",
       "      <th>4</th>\n",
       "      <td>1995</td>\n",
       "      <td>02</td>\n",
       "      <td>10</td>\n",
       "    </tr>\n",
       "    <tr>\n",
       "      <th>5</th>\n",
       "      <td>1995</td>\n",
       "      <td>12</td>\n",
       "      <td>15</td>\n",
       "    </tr>\n",
       "  </tbody>\n",
       "</table>\n",
       "</div>"
      ],
      "text/plain": [
       "   year month day\n",
       "0  1995    10  30\n",
       "1  1995    12  15\n",
       "3  1995    12  22\n",
       "4  1995    02  10\n",
       "5  1995    12  15"
      ]
     },
     "execution_count": 7,
     "metadata": {},
     "output_type": "execute_result"
    }
   ],
   "source": [
    "fechas = nueva_tabla[\"release_date\"].str.split('-', expand=True)\n",
    "fechas.columns= ['year', 'month', 'day']\n",
    "fechas.head()"
   ]
  },
  {
   "cell_type": "code",
   "execution_count": 8,
   "id": "d52695f0",
   "metadata": {
    "execution": {
     "iopub.execute_input": "2022-08-30T01:01:12.191111Z",
     "iopub.status.busy": "2022-08-30T01:01:12.190693Z",
     "iopub.status.idle": "2022-08-30T01:01:12.211274Z",
     "shell.execute_reply": "2022-08-30T01:01:12.209795Z"
    },
    "papermill": {
     "duration": 0.03141,
     "end_time": "2022-08-30T01:01:12.213869",
     "exception": false,
     "start_time": "2022-08-30T01:01:12.182459",
     "status": "completed"
    },
    "tags": []
   },
   "outputs": [
    {
     "data": {
      "text/html": [
       "<div>\n",
       "<style scoped>\n",
       "    .dataframe tbody tr th:only-of-type {\n",
       "        vertical-align: middle;\n",
       "    }\n",
       "\n",
       "    .dataframe tbody tr th {\n",
       "        vertical-align: top;\n",
       "    }\n",
       "\n",
       "    .dataframe thead th {\n",
       "        text-align: right;\n",
       "    }\n",
       "</style>\n",
       "<table border=\"1\" class=\"dataframe\">\n",
       "  <thead>\n",
       "    <tr style=\"text-align: right;\">\n",
       "      <th></th>\n",
       "      <th>original_title</th>\n",
       "      <th>title</th>\n",
       "      <th>adult</th>\n",
       "      <th>original_language</th>\n",
       "      <th>popularity</th>\n",
       "      <th>budget</th>\n",
       "      <th>revenue</th>\n",
       "      <th>vote_count</th>\n",
       "      <th>year</th>\n",
       "      <th>month</th>\n",
       "    </tr>\n",
       "  </thead>\n",
       "  <tbody>\n",
       "    <tr>\n",
       "      <th>0</th>\n",
       "      <td>Toy Story</td>\n",
       "      <td>Toy Story</td>\n",
       "      <td>False</td>\n",
       "      <td>en</td>\n",
       "      <td>21.946943</td>\n",
       "      <td>30000000.0</td>\n",
       "      <td>373554033</td>\n",
       "      <td>5415</td>\n",
       "      <td>1995</td>\n",
       "      <td>10</td>\n",
       "    </tr>\n",
       "    <tr>\n",
       "      <th>1</th>\n",
       "      <td>Jumanji</td>\n",
       "      <td>Jumanji</td>\n",
       "      <td>False</td>\n",
       "      <td>en</td>\n",
       "      <td>17.015539</td>\n",
       "      <td>65000000.0</td>\n",
       "      <td>262797249</td>\n",
       "      <td>2413</td>\n",
       "      <td>1995</td>\n",
       "      <td>12</td>\n",
       "    </tr>\n",
       "    <tr>\n",
       "      <th>3</th>\n",
       "      <td>Waiting to Exhale</td>\n",
       "      <td>Waiting to Exhale</td>\n",
       "      <td>False</td>\n",
       "      <td>en</td>\n",
       "      <td>3.859495</td>\n",
       "      <td>16000000.0</td>\n",
       "      <td>81452156</td>\n",
       "      <td>34</td>\n",
       "      <td>1995</td>\n",
       "      <td>12</td>\n",
       "    </tr>\n",
       "    <tr>\n",
       "      <th>4</th>\n",
       "      <td>Father of the Bride Part II</td>\n",
       "      <td>Father of the Bride Part II</td>\n",
       "      <td>False</td>\n",
       "      <td>en</td>\n",
       "      <td>8.387519</td>\n",
       "      <td>0.0</td>\n",
       "      <td>76578911</td>\n",
       "      <td>173</td>\n",
       "      <td>1995</td>\n",
       "      <td>02</td>\n",
       "    </tr>\n",
       "    <tr>\n",
       "      <th>5</th>\n",
       "      <td>Heat</td>\n",
       "      <td>Heat</td>\n",
       "      <td>False</td>\n",
       "      <td>en</td>\n",
       "      <td>17.924927</td>\n",
       "      <td>60000000.0</td>\n",
       "      <td>187436818</td>\n",
       "      <td>1886</td>\n",
       "      <td>1995</td>\n",
       "      <td>12</td>\n",
       "    </tr>\n",
       "  </tbody>\n",
       "</table>\n",
       "</div>"
      ],
      "text/plain": [
       "                original_title                        title  adult  \\\n",
       "0                    Toy Story                    Toy Story  False   \n",
       "1                      Jumanji                      Jumanji  False   \n",
       "3            Waiting to Exhale            Waiting to Exhale  False   \n",
       "4  Father of the Bride Part II  Father of the Bride Part II  False   \n",
       "5                         Heat                         Heat  False   \n",
       "\n",
       "  original_language  popularity      budget    revenue  vote_count  year month  \n",
       "0                en   21.946943  30000000.0  373554033        5415  1995    10  \n",
       "1                en   17.015539  65000000.0  262797249        2413  1995    12  \n",
       "3                en    3.859495  16000000.0   81452156          34  1995    12  \n",
       "4                en    8.387519         0.0   76578911         173  1995    02  \n",
       "5                en   17.924927  60000000.0  187436818        1886  1995    12  "
      ]
     },
     "execution_count": 8,
     "metadata": {},
     "output_type": "execute_result"
    }
   ],
   "source": [
    "nueva_tabla = pd.concat([nueva_tabla,fechas],axis=1)\n",
    "nueva_tabla.drop(columns=['release_date','day'], inplace=True)\n",
    "nueva_tabla.head()"
   ]
  },
  {
   "cell_type": "code",
   "execution_count": 9,
   "id": "dc53b55e",
   "metadata": {
    "execution": {
     "iopub.execute_input": "2022-08-30T01:01:12.229282Z",
     "iopub.status.busy": "2022-08-30T01:01:12.228815Z",
     "iopub.status.idle": "2022-08-30T01:01:12.244108Z",
     "shell.execute_reply": "2022-08-30T01:01:12.242821Z"
    },
    "papermill": {
     "duration": 0.026861,
     "end_time": "2022-08-30T01:01:12.247552",
     "exception": false,
     "start_time": "2022-08-30T01:01:12.220691",
     "status": "completed"
    },
    "tags": []
   },
   "outputs": [],
   "source": [
    "nueva_tabla.to_csv('./dataset_peliculas.csv',index=False) "
   ]
  },
  {
   "cell_type": "markdown",
   "id": "018cea88",
   "metadata": {
    "papermill": {
     "duration": 0.006321,
     "end_time": "2022-08-30T01:01:12.260588",
     "exception": false,
     "start_time": "2022-08-30T01:01:12.254267",
     "status": "completed"
    },
    "tags": []
   },
   "source": [
    "#### c) Responder las siguientes preguntas sobre los datos del  **dataset_peliculas** generado en el punto b.\n",
    "​\n",
    "* ¿Cuál es el idioma más popular de las películas?\n",
    "Generar un dataframe **idiomas** que contenga una columna *idioma* y otra *cantidad* donde se pueda ver la cantidad de veces que aparece cada idioma en en el dataset. \n",
    "​\n",
    "* ¿Qué películas tienen un *revenue* mayor al promedio?\n",
    "Generar un dataframe **mayor_revenue** que contenga una columna *titulo* y otra *revenue* con las películas que tengan un revenue mayor al promedio.\n",
    "​\n",
    "* ¿Cuál fue la rentabilidad (revenue - budget) de cada película?\n",
    "Generar un dataframe **rentabilidad** conlas columnas *titulo, rentabildad, revenue y budget** ordenado de mayor a menor. \n",
    "¿Qué peliculas fueron las más rentables?\n",
    "¿Cuáles no fueron rentables?"
   ]
  },
  {
   "cell_type": "code",
   "execution_count": 10,
   "id": "9029ed32",
   "metadata": {
    "execution": {
     "iopub.execute_input": "2022-08-30T01:01:12.276111Z",
     "iopub.status.busy": "2022-08-30T01:01:12.275287Z",
     "iopub.status.idle": "2022-08-30T01:01:12.291456Z",
     "shell.execute_reply": "2022-08-30T01:01:12.290115Z"
    },
    "papermill": {
     "duration": 0.026763,
     "end_time": "2022-08-30T01:01:12.294001",
     "exception": false,
     "start_time": "2022-08-30T01:01:12.267238",
     "status": "completed"
    },
    "tags": []
   },
   "outputs": [
    {
     "data": {
      "text/html": [
       "<div>\n",
       "<style scoped>\n",
       "    .dataframe tbody tr th:only-of-type {\n",
       "        vertical-align: middle;\n",
       "    }\n",
       "\n",
       "    .dataframe tbody tr th {\n",
       "        vertical-align: top;\n",
       "    }\n",
       "\n",
       "    .dataframe thead th {\n",
       "        text-align: right;\n",
       "    }\n",
       "</style>\n",
       "<table border=\"1\" class=\"dataframe\">\n",
       "  <thead>\n",
       "    <tr style=\"text-align: right;\">\n",
       "      <th></th>\n",
       "      <th>language</th>\n",
       "      <th>count</th>\n",
       "    </tr>\n",
       "  </thead>\n",
       "  <tbody>\n",
       "    <tr>\n",
       "      <th>0</th>\n",
       "      <td>en</td>\n",
       "      <td>32</td>\n",
       "    </tr>\n",
       "    <tr>\n",
       "      <th>1</th>\n",
       "      <td>fr</td>\n",
       "      <td>1</td>\n",
       "    </tr>\n",
       "  </tbody>\n",
       "</table>\n",
       "</div>"
      ],
      "text/plain": [
       "  language  count\n",
       "0       en     32\n",
       "1       fr      1"
      ]
     },
     "execution_count": 10,
     "metadata": {},
     "output_type": "execute_result"
    }
   ],
   "source": [
    "ds_peliculas = pd.read_csv('./dataset_peliculas.csv')\n",
    "datos = ds_peliculas['original_language'].value_counts()\n",
    "\n",
    "idiomas = pd.DataFrame(data=zip(datos.index,datos.values), columns=['language','count'])\n",
    "idiomas"
   ]
  },
  {
   "cell_type": "code",
   "execution_count": 11,
   "id": "3dc2629a",
   "metadata": {
    "execution": {
     "iopub.execute_input": "2022-08-30T01:01:12.309852Z",
     "iopub.status.busy": "2022-08-30T01:01:12.309066Z",
     "iopub.status.idle": "2022-08-30T01:01:12.325834Z",
     "shell.execute_reply": "2022-08-30T01:01:12.324742Z"
    },
    "papermill": {
     "duration": 0.027711,
     "end_time": "2022-08-30T01:01:12.328498",
     "exception": false,
     "start_time": "2022-08-30T01:01:12.300787",
     "status": "completed"
    },
    "tags": []
   },
   "outputs": [
    {
     "data": {
      "text/html": [
       "<div>\n",
       "<style scoped>\n",
       "    .dataframe tbody tr th:only-of-type {\n",
       "        vertical-align: middle;\n",
       "    }\n",
       "\n",
       "    .dataframe tbody tr th {\n",
       "        vertical-align: top;\n",
       "    }\n",
       "\n",
       "    .dataframe thead th {\n",
       "        text-align: right;\n",
       "    }\n",
       "</style>\n",
       "<table border=\"1\" class=\"dataframe\">\n",
       "  <thead>\n",
       "    <tr style=\"text-align: right;\">\n",
       "      <th></th>\n",
       "      <th>title</th>\n",
       "      <th>revenue</th>\n",
       "    </tr>\n",
       "  </thead>\n",
       "  <tbody>\n",
       "    <tr>\n",
       "      <th>0</th>\n",
       "      <td>Toy Story</td>\n",
       "      <td>373554033</td>\n",
       "    </tr>\n",
       "    <tr>\n",
       "      <th>1</th>\n",
       "      <td>Jumanji</td>\n",
       "      <td>262797249</td>\n",
       "    </tr>\n",
       "    <tr>\n",
       "      <th>4</th>\n",
       "      <td>Heat</td>\n",
       "      <td>187436818</td>\n",
       "    </tr>\n",
       "    <tr>\n",
       "      <th>6</th>\n",
       "      <td>GoldenEye</td>\n",
       "      <td>352194034</td>\n",
       "    </tr>\n",
       "    <tr>\n",
       "      <th>11</th>\n",
       "      <td>Casino</td>\n",
       "      <td>116112375</td>\n",
       "    </tr>\n",
       "  </tbody>\n",
       "</table>\n",
       "</div>"
      ],
      "text/plain": [
       "        title    revenue\n",
       "0   Toy Story  373554033\n",
       "1     Jumanji  262797249\n",
       "4        Heat  187436818\n",
       "6   GoldenEye  352194034\n",
       "11     Casino  116112375"
      ]
     },
     "execution_count": 11,
     "metadata": {},
     "output_type": "execute_result"
    }
   ],
   "source": [
    "revenue_mean = ds_peliculas['revenue'].mean()\n",
    "mayor_revenue = ds_peliculas.query(f'revenue > {revenue_mean}')\n",
    "ds_revenue = pd.DataFrame(data=mayor_revenue,columns=['title','revenue'])\n",
    "ds_revenue.head()"
   ]
  },
  {
   "cell_type": "code",
   "execution_count": 12,
   "id": "e4e2bf73",
   "metadata": {
    "execution": {
     "iopub.execute_input": "2022-08-30T01:01:12.345738Z",
     "iopub.status.busy": "2022-08-30T01:01:12.344643Z",
     "iopub.status.idle": "2022-08-30T01:01:12.350364Z",
     "shell.execute_reply": "2022-08-30T01:01:12.349145Z"
    },
    "papermill": {
     "duration": 0.017658,
     "end_time": "2022-08-30T01:01:12.353156",
     "exception": false,
     "start_time": "2022-08-30T01:01:12.335498",
     "status": "completed"
    },
    "tags": []
   },
   "outputs": [],
   "source": [
    "#rentabilidad = pd.DataFrame(data = ds_peliculas['revenue'] - ds_peliculas['budget'], columns=[\"rentabilidad\"])\n",
    "#ds_rentabilidad = pd.DataFrame(data = ds_peliculas.insert(10,'rentabilidad',rentabilidad), columns=[\"title\",\"rentabilidad\",\"revenue\",\"budget\"])\n",
    "#ds_rentabilidad\n"
   ]
  },
  {
   "cell_type": "markdown",
   "id": "f237d273",
   "metadata": {
    "papermill": {
     "duration": 0.006586,
     "end_time": "2022-08-30T01:01:12.366753",
     "exception": false,
     "start_time": "2022-08-30T01:01:12.360167",
     "status": "completed"
    },
    "tags": []
   },
   "source": [
    "#### d) Realizar los siguientes gráficos\n",
    "\n",
    "* Realizar un gráfico de barras que permita ver la cantidad de películas estrenadas por mes durante el año 1996.\n",
    "\n",
    "* Realizar un scatter plot de budget vs revenue\n",
    "¿Qué podemos ver en el scatter plot? ¿Les llama la atención alguna/s observacion/es ?\n",
    "\n",
    "* Realizar un pairplot con todas las variables cuantitativas."
   ]
  },
  {
   "cell_type": "code",
   "execution_count": 13,
   "id": "e548d0a7",
   "metadata": {
    "execution": {
     "iopub.execute_input": "2022-08-30T01:01:12.382833Z",
     "iopub.status.busy": "2022-08-30T01:01:12.382043Z",
     "iopub.status.idle": "2022-08-30T01:01:12.687752Z",
     "shell.execute_reply": "2022-08-30T01:01:12.686574Z"
    },
    "papermill": {
     "duration": 0.316652,
     "end_time": "2022-08-30T01:01:12.690269",
     "exception": false,
     "start_time": "2022-08-30T01:01:12.373617",
     "status": "completed"
    },
    "tags": []
   },
   "outputs": [
    {
     "data": {
      "image/png": "[encoded data removed]",
      "text/plain": [
       "<Figure size 432x288 with 1 Axes>"
      ]
     },
     "metadata": {
      "needs_background": "light"
     },
     "output_type": "display_data"
    }
   ],
   "source": [
    "grf_p1=ds_peliculas.query('year == 1995').month.value_counts().plot.bar(alpha=0.5 , title=\"Gráfico de barras variable Mes en 1995 \" , xlabel=\"Mes\" , ylabel=\"Frecuencia\")\n"
   ]
  },
  {
   "cell_type": "code",
   "execution_count": 14,
   "id": "e05ce6f0",
   "metadata": {
    "execution": {
     "iopub.execute_input": "2022-08-30T01:01:12.707076Z",
     "iopub.status.busy": "2022-08-30T01:01:12.706608Z",
     "iopub.status.idle": "2022-08-30T01:01:12.955782Z",
     "shell.execute_reply": "2022-08-30T01:01:12.954943Z"
    },
    "papermill": {
     "duration": 0.260723,
     "end_time": "2022-08-30T01:01:12.958201",
     "exception": false,
     "start_time": "2022-08-30T01:01:12.697478",
     "status": "completed"
    },
    "tags": []
   },
   "outputs": [
    {
     "data": {
      "image/png": "[encoded data removed]",
      "text/plain": [
       "<Figure size 432x288 with 1 Axes>"
      ]
     },
     "metadata": {
      "needs_background": "light"
     },
     "output_type": "display_data"
    }
   ],
   "source": [
    "grf_p2=ds_peliculas.plot.scatter(x='budget',y='revenue')"
   ]
  },
  {
   "cell_type": "code",
   "execution_count": 15,
   "id": "83d6e2c3",
   "metadata": {
    "execution": {
     "iopub.execute_input": "2022-08-30T01:01:12.975306Z",
     "iopub.status.busy": "2022-08-30T01:01:12.974679Z",
     "iopub.status.idle": "2022-08-30T01:01:13.346809Z",
     "shell.execute_reply": "2022-08-30T01:01:13.345538Z"
    },
    "papermill": {
     "duration": 0.383579,
     "end_time": "2022-08-30T01:01:13.349507",
     "exception": false,
     "start_time": "2022-08-30T01:01:12.965928",
     "status": "completed"
    },
    "tags": []
   },
   "outputs": [
    {
     "data": {
      "image/png": "[encoded data removed]",
      "text/plain": [
       "<Figure size 432x288 with 2 Axes>"
      ]
     },
     "metadata": {
      "needs_background": "light"
     },
     "output_type": "display_data"
    }
   ],
   "source": [
    "grf_p2=ds_peliculas.plot.scatter(x='budget',y='revenue',c='month',colormap='viridis')"
   ]
  },
  {
   "cell_type": "code",
   "execution_count": 16,
   "id": "1e6a1b1e",
   "metadata": {
    "execution": {
     "iopub.execute_input": "2022-08-30T01:01:13.367500Z",
     "iopub.status.busy": "2022-08-30T01:01:13.367053Z",
     "iopub.status.idle": "2022-08-30T01:01:15.450075Z",
     "shell.execute_reply": "2022-08-30T01:01:15.448752Z"
    },
    "papermill": {
     "duration": 2.094852,
     "end_time": "2022-08-30T01:01:15.452555",
     "exception": false,
     "start_time": "2022-08-30T01:01:13.357703",
     "status": "completed"
    },
    "tags": []
   },
   "outputs": [
    {
     "name": "stderr",
     "output_type": "stream",
     "text": [
      "/opt/conda/lib/python3.7/site-packages/pandas/plotting/_matplotlib/misc.py:100: UserWarning: Attempting to set identical left == right == 1995.0 results in singular transformations; automatically expanding.\n",
      "  ax.set_xlim(boundaries_list[j])\n",
      "/opt/conda/lib/python3.7/site-packages/pandas/plotting/_matplotlib/misc.py:101: UserWarning: Attempting to set identical bottom == top == 1995.0 results in singular transformations; automatically expanding.\n",
      "  ax.set_ylim(boundaries_list[i])\n",
      "/opt/conda/lib/python3.7/site-packages/pandas/plotting/_matplotlib/misc.py:91: UserWarning: Attempting to set identical left == right == 1995.0 results in singular transformations; automatically expanding.\n",
      "  ax.set_xlim(boundaries_list[i])\n"
     ]
    },
    {
     "data": {
      "image/png": "[encoded data removed]",
      "text/plain": [
       "<Figure size 432x288 with 36 Axes>"
      ]
     },
     "metadata": {
      "needs_background": "light"
     },
     "output_type": "display_data"
    }
   ],
   "source": [
    "columns=ds_peliculas.columns.tolist()\n",
    "columns.remove('original_title')\n",
    "columns.remove('original_language')\n",
    "columns.remove('title')\n",
    "columns.remove('adult')\n",
    "ds_scatter_matrix=ds_peliculas[columns].copy()\n",
    "pd.plotting.scatter_matrix(ds_scatter_matrix, alpha=0.2);"
   ]
  }
 ],
 "metadata": {
  "kernelspec": {
   "display_name": "Python 3",
   "language": "python",
   "name": "python3"
  },
  "language_info": {
   "codemirror_mode": {
    "name": "ipython",
    "version": 3
   },
   "file_extension": ".py",
   "mimetype": "text/x-python",
   "name": "python",
   "nbconvert_exporter": "python",
   "pygments_lexer": "ipython3",
   "version": "3.7.12"
  },
  "papermill": {
   "default_parameters": {},
   "duration": 14.196206,
   "end_time": "2022-08-30T01:01:16.183980",
   "environment_variables": {},
   "exception": null,
   "input_path": "__notebook__.ipynb",
   "output_path": "__notebook__.ipynb",
   "parameters": {},
   "start_time": "2022-08-30T01:01:01.987774",
   "version": "2.3.4"
  }
 },
 "nbformat": 4,
 "nbformat_minor": 5
}
